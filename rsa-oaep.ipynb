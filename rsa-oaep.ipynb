{
 "cells": [
  {
   "cell_type": "code",
   "execution_count": 1,
   "metadata": {},
   "outputs": [],
   "source": [
    "from Crypto.Cipher import PKCS1_OAEP\n",
    "from Crypto.PublicKey import RSA"
   ]
  },
  {
   "cell_type": "code",
   "execution_count": 2,
   "metadata": {},
   "outputs": [],
   "source": [
    "keypair = RSA.generate(2048)"
   ]
  },
  {
   "cell_type": "code",
   "execution_count": 3,
   "metadata": {},
   "outputs": [],
   "source": [
    "public_key = keypair.public_key()"
   ]
  },
  {
   "cell_type": "code",
   "execution_count": 4,
   "metadata": {},
   "outputs": [],
   "source": [
    "message = b'You can attack now!'"
   ]
  },
  {
   "cell_type": "code",
   "execution_count": 5,
   "metadata": {},
   "outputs": [],
   "source": [
    "cipher = PKCS1_OAEP.new(public_key)"
   ]
  },
  {
   "cell_type": "code",
   "execution_count": 8,
   "metadata": {},
   "outputs": [],
   "source": [
    "ciphertext = cipher.encrypt(message)"
   ]
  },
  {
   "cell_type": "markdown",
   "metadata": {},
   "source": [
    "Confirm cannot decrypt with only public key."
   ]
  },
  {
   "cell_type": "code",
   "execution_count": 7,
   "metadata": {},
   "outputs": [
    {
     "ename": "TypeError",
     "evalue": "This is not a private key",
     "output_type": "error",
     "traceback": [
      "\u001b[0;31m---------------------------------------------------------------------------\u001b[0m",
      "\u001b[0;31mTypeError\u001b[0m                                 Traceback (most recent call last)",
      "\u001b[1;32m/workspaces/pycryptodome-examples/rsa-oaep.ipynb Cell 7\u001b[0m line \u001b[0;36m1\n\u001b[0;32m----> <a href='vscode-notebook-cell://codespaces%2Bbookish-telegram-v6qr4wgq4x5hp6q4/workspaces/pycryptodome-examples/rsa-oaep.ipynb#W6sdnNjb2RlLXJlbW90ZQ%3D%3D?line=0'>1</a>\u001b[0m plaintext \u001b[39m=\u001b[39m cipher\u001b[39m.\u001b[39;49mdecrypt(ciphertext)\n",
      "File \u001b[0;32m~/.local/lib/python3.10/site-packages/Crypto/Cipher/PKCS1_OAEP.py:171\u001b[0m, in \u001b[0;36mPKCS1OAEP_Cipher.decrypt\u001b[0;34m(self, ciphertext)\u001b[0m\n\u001b[1;32m    169\u001b[0m ct_int \u001b[39m=\u001b[39m bytes_to_long(ciphertext)\n\u001b[1;32m    170\u001b[0m \u001b[39m# Step 2b (RSADP)\u001b[39;00m\n\u001b[0;32m--> 171\u001b[0m m_int \u001b[39m=\u001b[39m \u001b[39mself\u001b[39;49m\u001b[39m.\u001b[39;49m_key\u001b[39m.\u001b[39;49m_decrypt(ct_int)\n\u001b[1;32m    172\u001b[0m \u001b[39m# Complete step 2c (I2OSP)\u001b[39;00m\n\u001b[1;32m    173\u001b[0m em \u001b[39m=\u001b[39m long_to_bytes(m_int, k)\n",
      "File \u001b[0;32m~/.local/lib/python3.10/site-packages/Crypto/PublicKey/RSA.py:187\u001b[0m, in \u001b[0;36mRsaKey._decrypt\u001b[0;34m(self, ciphertext)\u001b[0m\n\u001b[1;32m    185\u001b[0m     \u001b[39mraise\u001b[39;00m \u001b[39mValueError\u001b[39;00m(\u001b[39m\"\u001b[39m\u001b[39mCiphertext too large\u001b[39m\u001b[39m\"\u001b[39m)\n\u001b[1;32m    186\u001b[0m \u001b[39mif\u001b[39;00m \u001b[39mnot\u001b[39;00m \u001b[39mself\u001b[39m\u001b[39m.\u001b[39mhas_private():\n\u001b[0;32m--> 187\u001b[0m     \u001b[39mraise\u001b[39;00m \u001b[39mTypeError\u001b[39;00m(\u001b[39m\"\u001b[39m\u001b[39mThis is not a private key\u001b[39m\u001b[39m\"\u001b[39m)\n\u001b[1;32m    189\u001b[0m \u001b[39m# Blinded RSA decryption (to prevent timing attacks):\u001b[39;00m\n\u001b[1;32m    190\u001b[0m \u001b[39m# Step 1: Generate random secret blinding factor r,\u001b[39;00m\n\u001b[1;32m    191\u001b[0m \u001b[39m# such that 0 < r < n-1\u001b[39;00m\n\u001b[1;32m    192\u001b[0m r \u001b[39m=\u001b[39m Integer\u001b[39m.\u001b[39mrandom_range(min_inclusive\u001b[39m=\u001b[39m\u001b[39m1\u001b[39m, max_exclusive\u001b[39m=\u001b[39m\u001b[39mself\u001b[39m\u001b[39m.\u001b[39m_n)\n",
      "\u001b[0;31mTypeError\u001b[0m: This is not a private key"
     ]
    }
   ],
   "source": [
    "plaintext = cipher.decrypt(ciphertext)"
   ]
  },
  {
   "cell_type": "code",
   "execution_count": 9,
   "metadata": {},
   "outputs": [
    {
     "data": {
      "text/plain": [
       "b'You can attack now!'"
      ]
     },
     "execution_count": 9,
     "metadata": {},
     "output_type": "execute_result"
    }
   ],
   "source": [
    "cipher = PKCS1_OAEP.new(keypair)\n",
    "cipher.decrypt(ciphertext)"
   ]
  },
  {
   "cell_type": "code",
   "execution_count": null,
   "metadata": {},
   "outputs": [],
   "source": []
  }
 ],
 "metadata": {
  "kernelspec": {
   "display_name": "Python 3",
   "language": "python",
   "name": "python3"
  },
  "language_info": {
   "codemirror_mode": {
    "name": "ipython",
    "version": 3
   },
   "file_extension": ".py",
   "mimetype": "text/x-python",
   "name": "python",
   "nbconvert_exporter": "python",
   "pygments_lexer": "ipython3",
   "version": "3.10.8"
  },
  "orig_nbformat": 4
 },
 "nbformat": 4,
 "nbformat_minor": 2
}
