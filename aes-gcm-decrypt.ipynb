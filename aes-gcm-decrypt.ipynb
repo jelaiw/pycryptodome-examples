{
 "cells": [
  {
   "cell_type": "code",
   "execution_count": 1,
   "metadata": {},
   "outputs": [],
   "source": [
    "import json\n",
    "from base64 import b64decode\n",
    "from Crypto.Cipher import AES"
   ]
  },
  {
   "cell_type": "code",
   "execution_count": 2,
   "metadata": {},
   "outputs": [],
   "source": [
    "payload_json = '{\"nonce\": \"FbTkVyymN2Z1eWKCjw/Ipw==\", \"header\": \"aGVhZGVy\", \"ciphertext\": \"Mow034uY\", \"tag\": \"wZNZE8nPwnDfxQ/Gx++Beg==\"}'"
   ]
  },
  {
   "cell_type": "code",
   "execution_count": 3,
   "metadata": {},
   "outputs": [
    {
     "data": {
      "text/plain": [
       "{'nonce': b'\\x15\\xb4\\xe4W,\\xa67fuyb\\x82\\x8f\\x0f\\xc8\\xa7',\n",
       " 'header': b'header',\n",
       " 'ciphertext': b'2\\x8c4\\xdf\\x8b\\x98',\n",
       " 'tag': b'\\xc1\\x93Y\\x13\\xc9\\xcf\\xc2p\\xdf\\xc5\\x0f\\xc6\\xc7\\xef\\x81z'}"
      ]
     },
     "execution_count": 3,
     "metadata": {},
     "output_type": "execute_result"
    }
   ],
   "source": [
    "b64 = json.loads(payload_json)\n",
    "json_k = ['nonce', 'header', 'ciphertext', 'tag']\n",
    "jv = {k:b64decode(b64[k]) for k in json_k}\n",
    "jv"
   ]
  },
  {
   "cell_type": "code",
   "execution_count": 4,
   "metadata": {},
   "outputs": [],
   "source": [
    "key = b'\\xa2\\x16\\x8a7\\xc0\\xb6\\xe5Q\\xe3\\xf5\\xa0\\xdc-\\x05\\x89\\xbf'"
   ]
  },
  {
   "cell_type": "code",
   "execution_count": 5,
   "metadata": {},
   "outputs": [
    {
     "name": "stdout",
     "output_type": "stream",
     "text": [
      "secret\n"
     ]
    }
   ],
   "source": [
    "try:\n",
    "    cipher = AES.new(key, AES.MODE_GCM, nonce=jv['nonce'])\n",
    "    cipher.update(jv['header'])\n",
    "    plaintext = cipher.decrypt_and_verify(jv['ciphertext'], jv['tag'])\n",
    "    print(plaintext.decode('utf-8'))\n",
    "except (ValueError, KeyError):\n",
    "    print(\"Incorrect decryption\")"
   ]
  },
  {
   "cell_type": "code",
   "execution_count": null,
   "metadata": {},
   "outputs": [],
   "source": []
  }
 ],
 "metadata": {
  "kernelspec": {
   "display_name": "Python 3",
   "language": "python",
   "name": "python3"
  },
  "language_info": {
   "codemirror_mode": {
    "name": "ipython",
    "version": 3
   },
   "file_extension": ".py",
   "mimetype": "text/x-python",
   "name": "python",
   "nbconvert_exporter": "python",
   "pygments_lexer": "ipython3",
   "version": "3.10.4"
  },
  "orig_nbformat": 4
 },
 "nbformat": 4,
 "nbformat_minor": 2
}
