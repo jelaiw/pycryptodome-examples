{
 "cells": [
  {
   "cell_type": "code",
   "execution_count": 1,
   "metadata": {},
   "outputs": [],
   "source": [
    "from Crypto.Signature import pss\n",
    "from Crypto.Hash import SHA256\n",
    "from Crypto.PublicKey import RSA"
   ]
  },
  {
   "cell_type": "code",
   "execution_count": 2,
   "metadata": {},
   "outputs": [],
   "source": [
    "message = b\"To be signed\""
   ]
  },
  {
   "cell_type": "code",
   "execution_count": 3,
   "metadata": {},
   "outputs": [],
   "source": [
    "key = RSA.import_key(open('privkey.der', 'rb').read())"
   ]
  },
  {
   "cell_type": "code",
   "execution_count": 4,
   "metadata": {},
   "outputs": [],
   "source": [
    "h = SHA256.new(message)"
   ]
  },
  {
   "cell_type": "code",
   "execution_count": 5,
   "metadata": {},
   "outputs": [],
   "source": [
    "signature = pss.new(key).sign(h)"
   ]
  },
  {
   "cell_type": "code",
   "execution_count": 6,
   "metadata": {},
   "outputs": [
    {
     "data": {
      "text/plain": [
       "'6fed8c2d552780120c73d452252bf12e8a1ecd48618d3a86c30dd87d48bc70763e0532ab58cfe2f18ca13c42e98a5bbd1315ae4d12033b06c13f84daba00f48bbb6cda179830c6f1b481d59384251ed779dd5061f193729f71683b253e045998ad05d115697a55b113d531401e356d649f496d4bf1f718ae11e65cc895de1110d4e9874816632a3044b4da2905f2198524bf4d4003ec1535e56fe1f0be69ad4f2a7c82edf8e9ff6b3c479cd31fdd4239170ec12cd139aab4a7de2a38afe82ccb9e2a4a74de7a9bd70d952ec0878fc38e8e8fd1ef3ca60f4aa2cc29ef04a99689067371e324a2e5b1667d28167b908c470284db4424e6373d08d4aedb0c9f7060'"
      ]
     },
     "execution_count": 6,
     "metadata": {},
     "output_type": "execute_result"
    }
   ],
   "source": [
    "signature.hex()"
   ]
  },
  {
   "cell_type": "code",
   "execution_count": null,
   "metadata": {},
   "outputs": [],
   "source": []
  }
 ],
 "metadata": {
  "kernelspec": {
   "display_name": "Python 3",
   "language": "python",
   "name": "python3"
  },
  "language_info": {
   "codemirror_mode": {
    "name": "ipython",
    "version": 3
   },
   "file_extension": ".py",
   "mimetype": "text/x-python",
   "name": "python",
   "nbconvert_exporter": "python",
   "pygments_lexer": "ipython3",
   "version": "3.10.8"
  }
 },
 "nbformat": 4,
 "nbformat_minor": 2
}
