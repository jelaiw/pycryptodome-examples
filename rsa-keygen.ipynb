{
 "cells": [
  {
   "cell_type": "code",
   "execution_count": 1,
   "metadata": {},
   "outputs": [],
   "source": [
    "from Crypto.PublicKey import RSA"
   ]
  },
  {
   "cell_type": "code",
   "execution_count": 2,
   "metadata": {},
   "outputs": [
    {
     "data": {
      "text/plain": [
       "RsaKey(n=25031484182116600719268421770429343235171639016155762440236223081274519944875663764524558226608232436968501433658322722143526367888201852404593009852350822958230420093686472983860476753319915211984461198276136088900808249100036968753946093035633489749384557005239703975245322622837777480958759304017100079429618515610069284859265480636964893702139438507278518942631871405065501780200615659053960814183064729668399756721228419961748454558813578944822326712708601841934356089764884653181955370481530438264442706874071061593291741603685429879900472706866200693665196767045199917115145206042025492343858577135377404130261, e=65537, d=5930449286597257417460072704418212802119566641803111576812301994033133515175922475422628676694783481831788482237709643510116940265805730538262594625592432184452198495425025039602081611132617048331213345524414682581791197091357157237019103507397061130944260747674701063881992223702674381598893078924477973256309390703761369371992818893922701613843078650002081771359901939847023241118169868514251512372768263986655551071195693306423386403244906135825392087553573046556604628322202160382558631470105070906788138829140615122634574647355517264163272324735101399972505121512177245883116214068929504350118733264333435546977, p=143039355080228954272642012428974466903044870930934176202104239968450438692810718835431249203422818917766777317925556838437620650582394951218884086633883087203640442234459676719913484224505343682849105358856849653955628936548754922889918692098347212214376502774417402445080794659428304347590279288017358557149, q=174997182894712855318505408137896715339836317793682979245256736053812972656030697105339549756217313797361590818711367520614274707518785370328584556776173204902661449916451705064363968394187712471838062489942846363751510447536073749986120553947067724382612101164995165958672170677024126452265501302977977856089, u=70998498362632716349516344737571361853071502467211668207612694383871636360426024743633569102333458051083114732798532811610697112410404562485888571176410339365276067605236758859119430045641127348784427502720793363350771623830892658197066482017674674044600183138369213698058379004049156524595007249099194778314)"
      ]
     },
     "execution_count": 2,
     "metadata": {},
     "output_type": "execute_result"
    }
   ],
   "source": [
    "key = RSA.generate(2048)\n",
    "key"
   ]
  },
  {
   "cell_type": "code",
   "execution_count": 3,
   "metadata": {},
   "outputs": [
    {
     "data": {
      "text/plain": [
       "2048"
      ]
     },
     "execution_count": 3,
     "metadata": {},
     "output_type": "execute_result"
    }
   ],
   "source": [
    "key.size_in_bits()"
   ]
  },
  {
   "cell_type": "code",
   "execution_count": 4,
   "metadata": {},
   "outputs": [
    {
     "data": {
      "text/plain": [
       "RsaKey(n=25031484182116600719268421770429343235171639016155762440236223081274519944875663764524558226608232436968501433658322722143526367888201852404593009852350822958230420093686472983860476753319915211984461198276136088900808249100036968753946093035633489749384557005239703975245322622837777480958759304017100079429618515610069284859265480636964893702139438507278518942631871405065501780200615659053960814183064729668399756721228419961748454558813578944822326712708601841934356089764884653181955370481530438264442706874071061593291741603685429879900472706866200693665196767045199917115145206042025492343858577135377404130261, e=65537)"
      ]
     },
     "execution_count": 4,
     "metadata": {},
     "output_type": "execute_result"
    }
   ],
   "source": [
    "public_key = key.public_key()\n",
    "public_key"
   ]
  },
  {
   "cell_type": "code",
   "execution_count": 5,
   "metadata": {},
   "outputs": [
    {
     "data": {
      "text/plain": [
       "65537"
      ]
     },
     "execution_count": 5,
     "metadata": {},
     "output_type": "execute_result"
    }
   ],
   "source": [
    "public_key.e"
   ]
  },
  {
   "cell_type": "markdown",
   "metadata": {},
   "source": [
    "Confirm public key has no private exponent $d$."
   ]
  },
  {
   "cell_type": "code",
   "execution_count": 6,
   "metadata": {},
   "outputs": [
    {
     "ename": "AttributeError",
     "evalue": "No private exponent available for public keys",
     "output_type": "error",
     "traceback": [
      "\u001b[0;31m---------------------------------------------------------------------------\u001b[0m",
      "\u001b[0;31mAttributeError\u001b[0m                            Traceback (most recent call last)",
      "\u001b[1;32m/workspaces/pycryptodome-examples/rsa-keygen.ipynb Cell 7\u001b[0m line \u001b[0;36m1\n\u001b[0;32m----> <a href='vscode-notebook-cell://codespaces%2Bbookish-telegram-v6qr4wgq4x5hp6q4/workspaces/pycryptodome-examples/rsa-keygen.ipynb#W5sdnNjb2RlLXJlbW90ZQ%3D%3D?line=0'>1</a>\u001b[0m public_key\u001b[39m.\u001b[39;49md\n",
      "File \u001b[0;32m~/.local/lib/python3.10/site-packages/Crypto/PublicKey/RSA.py:125\u001b[0m, in \u001b[0;36mRsaKey.d\u001b[0;34m(self)\u001b[0m\n\u001b[1;32m    122\u001b[0m \u001b[39m@property\u001b[39m\n\u001b[1;32m    123\u001b[0m \u001b[39mdef\u001b[39;00m \u001b[39md\u001b[39m(\u001b[39mself\u001b[39m):\n\u001b[1;32m    124\u001b[0m     \u001b[39mif\u001b[39;00m \u001b[39mnot\u001b[39;00m \u001b[39mself\u001b[39m\u001b[39m.\u001b[39mhas_private():\n\u001b[0;32m--> 125\u001b[0m         \u001b[39mraise\u001b[39;00m \u001b[39mAttributeError\u001b[39;00m(\u001b[39m\"\u001b[39m\u001b[39mNo private exponent available for public keys\u001b[39m\u001b[39m\"\u001b[39m)\n\u001b[1;32m    126\u001b[0m     \u001b[39mreturn\u001b[39;00m \u001b[39mint\u001b[39m(\u001b[39mself\u001b[39m\u001b[39m.\u001b[39m_d)\n",
      "\u001b[0;31mAttributeError\u001b[0m: No private exponent available for public keys"
     ]
    }
   ],
   "source": [
    "public_key.d"
   ]
  },
  {
   "cell_type": "code",
   "execution_count": 7,
   "metadata": {},
   "outputs": [],
   "source": [
    "assert public_key.n == key.p * key.q"
   ]
  },
  {
   "cell_type": "code",
   "execution_count": 8,
   "metadata": {},
   "outputs": [],
   "source": [
    "phi = (key.p - 1) * (key.q - 1)"
   ]
  },
  {
   "cell_type": "code",
   "execution_count": 9,
   "metadata": {},
   "outputs": [
    {
     "data": {
      "text/plain": [
       "1"
      ]
     },
     "execution_count": 9,
     "metadata": {},
     "output_type": "execute_result"
    }
   ],
   "source": [
    "public_key.e * key.d % phi"
   ]
  },
  {
   "cell_type": "code",
   "execution_count": null,
   "metadata": {},
   "outputs": [],
   "source": []
  }
 ],
 "metadata": {
  "kernelspec": {
   "display_name": "Python 3",
   "language": "python",
   "name": "python3"
  },
  "language_info": {
   "codemirror_mode": {
    "name": "ipython",
    "version": 3
   },
   "file_extension": ".py",
   "mimetype": "text/x-python",
   "name": "python",
   "nbconvert_exporter": "python",
   "pygments_lexer": "ipython3",
   "version": "3.10.8"
  },
  "orig_nbformat": 4
 },
 "nbformat": 4,
 "nbformat_minor": 2
}
