{
 "cells": [
  {
   "cell_type": "code",
   "execution_count": 1,
   "metadata": {},
   "outputs": [],
   "source": [
    "from Crypto.Hash import TupleHash128"
   ]
  },
  {
   "cell_type": "code",
   "execution_count": 2,
   "metadata": {},
   "outputs": [
    {
     "data": {
      "text/plain": [
       "'4c095be894c21cfe7076a7d0fe3f70ed'"
      ]
     },
     "execution_count": 2,
     "metadata": {},
     "output_type": "execute_result"
    }
   ],
   "source": [
    "hash = TupleHash128.new(digest_bytes=16)\n",
    "hash.update(b'deposit')\n",
    "hash.update(b'100')\n",
    "hash.update(b'joe')\n",
    "hash.hexdigest()"
   ]
  },
  {
   "cell_type": "code",
   "execution_count": 3,
   "metadata": {},
   "outputs": [
    {
     "ename": "TypeError",
     "evalue": "You can only call 'update' on bytes",
     "output_type": "error",
     "traceback": [
      "\u001b[0;31m---------------------------------------------------------------------------\u001b[0m",
      "\u001b[0;31mTypeError\u001b[0m                                 Traceback (most recent call last)",
      "\u001b[1;32m/workspaces/pycryptodome-examples/tuplehash.ipynb Cell 3\u001b[0m line \u001b[0;36m2\n\u001b[1;32m      <a href='vscode-notebook-cell://codespaces%2Bjubilant-space-palm-tree-4jwv46gw95q2q5x9/workspaces/pycryptodome-examples/tuplehash.ipynb#W2sdnNjb2RlLXJlbW90ZQ%3D%3D?line=0'>1</a>\u001b[0m \u001b[39mhash\u001b[39m \u001b[39m=\u001b[39m TupleHash128\u001b[39m.\u001b[39mnew(digest_bytes\u001b[39m=\u001b[39m\u001b[39m16\u001b[39m)\n\u001b[0;32m----> <a href='vscode-notebook-cell://codespaces%2Bjubilant-space-palm-tree-4jwv46gw95q2q5x9/workspaces/pycryptodome-examples/tuplehash.ipynb#W2sdnNjb2RlLXJlbW90ZQ%3D%3D?line=1'>2</a>\u001b[0m \u001b[39mhash\u001b[39;49m\u001b[39m.\u001b[39;49mupdate((\u001b[39mb\u001b[39;49m\u001b[39m'\u001b[39;49m\u001b[39mdeposit\u001b[39;49m\u001b[39m'\u001b[39;49m, \u001b[39mb\u001b[39;49m\u001b[39m'\u001b[39;49m\u001b[39m100\u001b[39;49m\u001b[39m'\u001b[39;49m, \u001b[39mb\u001b[39;49m\u001b[39m'\u001b[39;49m\u001b[39mjoe\u001b[39;49m\u001b[39m'\u001b[39;49m))\n\u001b[1;32m      <a href='vscode-notebook-cell://codespaces%2Bjubilant-space-palm-tree-4jwv46gw95q2q5x9/workspaces/pycryptodome-examples/tuplehash.ipynb#W2sdnNjb2RlLXJlbW90ZQ%3D%3D?line=2'>3</a>\u001b[0m \u001b[39mhash\u001b[39m\u001b[39m.\u001b[39mhexdigest()\n",
      "File \u001b[0;32m~/.python/current/lib/python3.10/site-packages/Crypto/Hash/TupleHash128.py:66\u001b[0m, in \u001b[0;36mTupleHash.update\u001b[0;34m(self, *data)\u001b[0m\n\u001b[1;32m     64\u001b[0m \u001b[39mfor\u001b[39;00m item \u001b[39min\u001b[39;00m data:\n\u001b[1;32m     65\u001b[0m     \u001b[39mif\u001b[39;00m \u001b[39mnot\u001b[39;00m is_bytes(item):\n\u001b[0;32m---> 66\u001b[0m         \u001b[39mraise\u001b[39;00m \u001b[39mTypeError\u001b[39;00m(\u001b[39m\"\u001b[39m\u001b[39mYou can only call \u001b[39m\u001b[39m'\u001b[39m\u001b[39mupdate\u001b[39m\u001b[39m'\u001b[39m\u001b[39m on bytes\u001b[39m\u001b[39m\"\u001b[39m )\n\u001b[1;32m     67\u001b[0m     \u001b[39mself\u001b[39m\u001b[39m.\u001b[39m_cshake\u001b[39m.\u001b[39mupdate(_encode_str(item))\n\u001b[1;32m     69\u001b[0m \u001b[39mreturn\u001b[39;00m \u001b[39mself\u001b[39m\n",
      "\u001b[0;31mTypeError\u001b[0m: You can only call 'update' on bytes"
     ]
    }
   ],
   "source": [
    "hash = TupleHash128.new(digest_bytes=16)\n",
    "hash.update((b'deposit', b'100', b'joe'))\n",
    "hash.hexdigest()"
   ]
  },
  {
   "cell_type": "code",
   "execution_count": 4,
   "metadata": {},
   "outputs": [
    {
     "data": {
      "text/plain": [
       "'b467d5a3155b9e23ee58978bfccf72bc449f2eb54f40fc26420d741728363cd590'"
      ]
     },
     "execution_count": 4,
     "metadata": {},
     "output_type": "execute_result"
    }
   ],
   "source": [
    "hash = TupleHash128.new(digest_bytes=33)\n",
    "hash.update(b'deposit')\n",
    "hash.update(b'100')\n",
    "hash.update(b'joe')\n",
    "hash.hexdigest()"
   ]
  },
  {
   "cell_type": "code",
   "execution_count": null,
   "metadata": {},
   "outputs": [],
   "source": []
  }
 ],
 "metadata": {
  "kernelspec": {
   "display_name": "Python 3",
   "language": "python",
   "name": "python3"
  },
  "language_info": {
   "codemirror_mode": {
    "name": "ipython",
    "version": 3
   },
   "file_extension": ".py",
   "mimetype": "text/x-python",
   "name": "python",
   "nbconvert_exporter": "python",
   "pygments_lexer": "ipython3",
   "version": "3.10.8"
  },
  "orig_nbformat": 4
 },
 "nbformat": 4,
 "nbformat_minor": 2
}
