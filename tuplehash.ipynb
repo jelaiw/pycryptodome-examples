{
 "cells": [
  {
   "cell_type": "code",
   "execution_count": 1,
   "metadata": {},
   "outputs": [],
   "source": [
    "from Crypto.Hash import TupleHash128"
   ]
  },
  {
   "cell_type": "code",
   "execution_count": 2,
   "metadata": {},
   "outputs": [
    {
     "data": {
      "text/plain": [
       "'4c095be894c21cfe7076a7d0fe3f70ed'"
      ]
     },
     "execution_count": 2,
     "metadata": {},
     "output_type": "execute_result"
    }
   ],
   "source": [
    "hash = TupleHash128.new(digest_bytes=16)\n",
    "hash.update(b'deposit')\n",
    "hash.update(b'100')\n",
    "hash.update(b'joe')\n",
    "hash.hexdigest()"
   ]
  },
  {
   "cell_type": "markdown",
   "metadata": {},
   "source": [
    "Possible bug to report? Maintainer confirms outdated documentation, see https://github.com/Legrandin/pycryptodome/issues/767 and https://github.com/Legrandin/pycryptodome/pull/768."
   ]
  },
  {
   "cell_type": "code",
   "execution_count": 3,
   "metadata": {},
   "outputs": [
    {
     "data": {
      "text/plain": [
       "'4c095be894c21cfe7076a7d0fe3f70ed'"
      ]
     },
     "execution_count": 3,
     "metadata": {},
     "output_type": "execute_result"
    }
   ],
   "source": [
    "hash = TupleHash128.new(digest_bytes=16)\n",
    "hash.update(b'deposit', b'100', b'joe')\n",
    "#t = [b'deposit', b'100', b'joe']\n",
    "#hash.update(*t)\n",
    "hash.hexdigest()"
   ]
  },
  {
   "cell_type": "markdown",
   "metadata": {},
   "source": [
    "Note 16-byte digest is NOT just a truncated version of the 33-byte digest: *they are cryptographically uncorrelated*."
   ]
  },
  {
   "cell_type": "code",
   "execution_count": 4,
   "metadata": {},
   "outputs": [
    {
     "data": {
      "text/plain": [
       "'b467d5a3155b9e23ee58978bfccf72bc449f2eb54f40fc26420d741728363cd590'"
      ]
     },
     "execution_count": 4,
     "metadata": {},
     "output_type": "execute_result"
    }
   ],
   "source": [
    "hash = TupleHash128.new(digest_bytes=33)\n",
    "hash.update(b'deposit')\n",
    "hash.update(b'100')\n",
    "hash.update(b'joe')\n",
    "hash.hexdigest()"
   ]
  },
  {
   "cell_type": "code",
   "execution_count": null,
   "metadata": {},
   "outputs": [],
   "source": []
  }
 ],
 "metadata": {
  "kernelspec": {
   "display_name": "Python 3",
   "language": "python",
   "name": "python3"
  },
  "language_info": {
   "codemirror_mode": {
    "name": "ipython",
    "version": 3
   },
   "file_extension": ".py",
   "mimetype": "text/x-python",
   "name": "python",
   "nbconvert_exporter": "python",
   "pygments_lexer": "ipython3",
   "version": "3.10.8"
  },
  "orig_nbformat": 4
 },
 "nbformat": 4,
 "nbformat_minor": 2
}
