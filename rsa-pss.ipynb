{
 "cells": [
  {
   "cell_type": "code",
   "execution_count": 1,
   "metadata": {},
   "outputs": [],
   "source": [
    "from Crypto.PublicKey import RSA\n",
    "from Crypto.Hash import SHA256\n",
    "from Crypto.Signature import pss"
   ]
  },
  {
   "cell_type": "markdown",
   "metadata": {},
   "source": [
    "## Sign a message"
   ]
  },
  {
   "cell_type": "code",
   "execution_count": 2,
   "metadata": {},
   "outputs": [],
   "source": [
    "signing_key = RSA.generate(2048)"
   ]
  },
  {
   "cell_type": "code",
   "execution_count": 3,
   "metadata": {},
   "outputs": [],
   "source": [
    "message = b'foobar.com has public key 0x020899...'"
   ]
  },
  {
   "cell_type": "code",
   "execution_count": 4,
   "metadata": {},
   "outputs": [
    {
     "data": {
      "text/plain": [
       "32"
      ]
     },
     "execution_count": 4,
     "metadata": {},
     "output_type": "execute_result"
    }
   ],
   "source": [
    "h = SHA256.new(message)\n",
    "len(h.digest())"
   ]
  },
  {
   "cell_type": "markdown",
   "metadata": {},
   "source": [
    "Repeat signing a few times and observe that signature changes (PSS is probabilistic)."
   ]
  },
  {
   "cell_type": "code",
   "execution_count": 9,
   "metadata": {},
   "outputs": [
    {
     "data": {
      "text/plain": [
       "'8e31645f9e61fb43d2b91026651778f344a411cce02e331cb2cd5cedd9bddf21df062c8b15e50f2f8adec5fc6b1b0fda00de47cff13ac4db6e92d57bf10dde09fbb6a519d9dd90fd850f343e5deea6b30dfc49b0e453f581d5822a6ae08732db71e5f8afdc5b82a5b161a03933ac4011022126c3277baca94ec4fad61cca69a00bd88a34790ff4df97cf7ae098fb338235d14ddd2f54950073823959826ef3609be88b92225fbdaf46e0b3db93cebbbb89eaeb29733f3fee54e8027fa89e56f488fbeddff89200c23d0df0919a8b140f674f7dd5a1e8a33e3cb23b60bce2b04f1d68e4e98ce25995a945e42cda377f6e8ee50627e798b6a9180606cbca866ede'"
      ]
     },
     "execution_count": 9,
     "metadata": {},
     "output_type": "execute_result"
    }
   ],
   "source": [
    "signature = pss.new(signing_key).sign(h)\n",
    "signature.hex()"
   ]
  },
  {
   "cell_type": "markdown",
   "metadata": {},
   "source": [
    "## Verify a signature"
   ]
  },
  {
   "cell_type": "code",
   "execution_count": 6,
   "metadata": {},
   "outputs": [],
   "source": [
    "public_key = signing_key.public_key()"
   ]
  },
  {
   "cell_type": "code",
   "execution_count": 7,
   "metadata": {},
   "outputs": [],
   "source": [
    "verifier = pss.new(public_key)"
   ]
  },
  {
   "cell_type": "code",
   "execution_count": 8,
   "metadata": {},
   "outputs": [
    {
     "name": "stdout",
     "output_type": "stream",
     "text": [
      "The signature is not authentic.\n"
     ]
    }
   ],
   "source": [
    "try:\n",
    "#    verifier.verify(h, signature)\n",
    "    verifier.verify(SHA256.new(b'foobar'), signature)\n",
    "    print(\"The signature is authentic.\")\n",
    "except ValueError:\n",
    "    print(\"The signature is not authentic.\")"
   ]
  },
  {
   "cell_type": "code",
   "execution_count": null,
   "metadata": {},
   "outputs": [],
   "source": []
  }
 ],
 "metadata": {
  "kernelspec": {
   "display_name": "Python 3",
   "language": "python",
   "name": "python3"
  },
  "language_info": {
   "codemirror_mode": {
    "name": "ipython",
    "version": 3
   },
   "file_extension": ".py",
   "mimetype": "text/x-python",
   "name": "python",
   "nbconvert_exporter": "python",
   "pygments_lexer": "ipython3",
   "version": "3.10.8"
  }
 },
 "nbformat": 4,
 "nbformat_minor": 2
}
